{
 "cells": [
  {
   "cell_type": "code",
   "execution_count": 1,
   "metadata": {},
   "outputs": [],
   "source": [
    "import pandas as pd\n",
    "import json\n",
    "import os"
   ]
  },
  {
   "cell_type": "code",
   "execution_count": 2,
   "metadata": {
    "scrolled": true
   },
   "outputs": [],
   "source": [
    "dirs = ['/data/s1847503/SDDM/biorxiv_medrxiv/biorxiv_medrxiv/',\n",
    "        '/data/s1847503/SDDM/comm_use_subset/comm_use_subset/',\n",
    "        '/data/s1847503/SDDM/noncomm_use_subset/noncomm_use_subset/',\n",
    "        '/data/s1847503/SDDM/custom_license/custom_license/'\n",
    "       ]\n",
    "\n",
    "\n",
    "filenames=[]\n",
    "docs =[]\n",
    "for d in dirs:\n",
    "    for file in os.listdir(d):\n",
    "        filename = d+file\n",
    "        j = json.load(open(filename, 'rb'))\n",
    "        \n",
    "        paper_id =j['paper_id']\n",
    "        \n",
    "        title = j['metadata']['title']\n",
    "        authors = j['metadata']['authors']\n",
    "        list_authors =[]\n",
    "        for author in authors:\n",
    "            if(len(author['middle'])==0):\n",
    "                middle =\"\"\n",
    "            else :\n",
    "                middle = author['middle'][0]\n",
    "            _authors =author['first']+ \" \"+ middle +\" \"+ author['last']\n",
    "            list_authors.append(_authors)\n",
    "            \n",
    "        try :\n",
    "            abstract =  j['abstract'][0]['text']\n",
    "        except :\n",
    "            abstract =\" \"\n",
    "        \n",
    "        full_text =\"\"\n",
    "        for text in  j['body_text']:\n",
    "            full_text += text['text']\n",
    "        \n",
    "        docs.append([paper_id,title,list_authors,abstract,full_text])\n",
    "\n",
    "df = pd.DataFrame(docs,columns=['paper_id','title','list_authors','abstract','full_text'])\n",
    "df.to_csv('/data/s1847503/SDDM/data.csv')"
   ]
  },
  {
   "cell_type": "code",
   "execution_count": 3,
   "metadata": {},
   "outputs": [
    {
     "data": {
      "text/html": [
       "<div>\n",
       "<style scoped>\n",
       "    .dataframe tbody tr th:only-of-type {\n",
       "        vertical-align: middle;\n",
       "    }\n",
       "\n",
       "    .dataframe tbody tr th {\n",
       "        vertical-align: top;\n",
       "    }\n",
       "\n",
       "    .dataframe thead th {\n",
       "        text-align: right;\n",
       "    }\n",
       "</style>\n",
       "<table border=\"1\" class=\"dataframe\">\n",
       "  <thead>\n",
       "    <tr style=\"text-align: right;\">\n",
       "      <th></th>\n",
       "      <th>paper_id</th>\n",
       "      <th>title</th>\n",
       "      <th>list_authors</th>\n",
       "      <th>abstract</th>\n",
       "      <th>full_text</th>\n",
       "    </tr>\n",
       "  </thead>\n",
       "  <tbody>\n",
       "    <tr>\n",
       "      <th>0</th>\n",
       "      <td>d23c6a066a58dbe5ec5fa57e67f1b795337299f7</td>\n",
       "      <td>LY6E impairs coronavirus fusion and confers im...</td>\n",
       "      <td>[Stephanie  Pfaender, Katrina B Mar 4#, Elefth...</td>\n",
       "      <td>Zoonotic coronaviruses (CoVs) are significant ...</td>\n",
       "      <td>4 hepatoma cells was largely specific to CoV. ...</td>\n",
       "    </tr>\n",
       "    <tr>\n",
       "      <th>1</th>\n",
       "      <td>618cd102ec5051a05ca5131e21961c964152f15c</td>\n",
       "      <td>Mating strategy is determinant of Adenovirus p...</td>\n",
       "      <td>[Federica  Rossetto, Maria  Iglesias-Caballero...</td>\n",
       "      <td>Adenoviruses are double-strained DNA viruses f...</td>\n",
       "      <td>across species, we found that the number of Ad...</td>\n",
       "    </tr>\n",
       "    <tr>\n",
       "      <th>2</th>\n",
       "      <td>ac81102667b0d56edeb8ab0044765dc49a19f374</td>\n",
       "      <td>Determination of host cell proteins constituti...</td>\n",
       "      <td>[  V&amp;apos;kovski Philip, Gerber  Markus, Kelly...</td>\n",
       "      <td>Positive-sense RNA viruses hijack intracellula...</td>\n",
       "      <td>8 peptide of only 14 amino acids at the carbox...</td>\n",
       "    </tr>\n",
       "    <tr>\n",
       "      <th>3</th>\n",
       "      <td>35ac99bfeb665ce0a2ae361dba1161e69eb8b7d5</td>\n",
       "      <td>ΦX174 Attenuation by Whole Genome Codon Deopti...</td>\n",
       "      <td>[James T Van Leuven, Martina M Ederer, Katelyn...</td>\n",
       "      <td>Natural selection acting on synonymous mutatio...</td>\n",
       "      <td>The unequal use of synonymous codons is known ...</td>\n",
       "    </tr>\n",
       "    <tr>\n",
       "      <th>4</th>\n",
       "      <td>ad146e228bda4e5a3d56b28a3a1acbd01e0b323e</td>\n",
       "      <td>Modelling the epidemic 2019-nCoV event in Ital...</td>\n",
       "      <td>[Marco Claudio Traini, Carla  Caponi, Giuseppe...</td>\n",
       "      <td></td>\n",
       "      <td>Late December 2019 health facilities reported ...</td>\n",
       "    </tr>\n",
       "  </tbody>\n",
       "</table>\n",
       "</div>"
      ],
      "text/plain": [
       "                                   paper_id  \\\n",
       "0  d23c6a066a58dbe5ec5fa57e67f1b795337299f7   \n",
       "1  618cd102ec5051a05ca5131e21961c964152f15c   \n",
       "2  ac81102667b0d56edeb8ab0044765dc49a19f374   \n",
       "3  35ac99bfeb665ce0a2ae361dba1161e69eb8b7d5   \n",
       "4  ad146e228bda4e5a3d56b28a3a1acbd01e0b323e   \n",
       "\n",
       "                                               title  \\\n",
       "0  LY6E impairs coronavirus fusion and confers im...   \n",
       "1  Mating strategy is determinant of Adenovirus p...   \n",
       "2  Determination of host cell proteins constituti...   \n",
       "3  ΦX174 Attenuation by Whole Genome Codon Deopti...   \n",
       "4  Modelling the epidemic 2019-nCoV event in Ital...   \n",
       "\n",
       "                                        list_authors  \\\n",
       "0  [Stephanie  Pfaender, Katrina B Mar 4#, Elefth...   \n",
       "1  [Federica  Rossetto, Maria  Iglesias-Caballero...   \n",
       "2  [  V&apos;kovski Philip, Gerber  Markus, Kelly...   \n",
       "3  [James T Van Leuven, Martina M Ederer, Katelyn...   \n",
       "4  [Marco Claudio Traini, Carla  Caponi, Giuseppe...   \n",
       "\n",
       "                                            abstract  \\\n",
       "0  Zoonotic coronaviruses (CoVs) are significant ...   \n",
       "1  Adenoviruses are double-strained DNA viruses f...   \n",
       "2  Positive-sense RNA viruses hijack intracellula...   \n",
       "3  Natural selection acting on synonymous mutatio...   \n",
       "4                                                      \n",
       "\n",
       "                                           full_text  \n",
       "0  4 hepatoma cells was largely specific to CoV. ...  \n",
       "1  across species, we found that the number of Ad...  \n",
       "2  8 peptide of only 14 amino acids at the carbox...  \n",
       "3  The unequal use of synonymous codons is known ...  \n",
       "4  Late December 2019 health facilities reported ...  "
      ]
     },
     "execution_count": 3,
     "metadata": {},
     "output_type": "execute_result"
    }
   ],
   "source": [
    "df.head()"
   ]
  },
  {
   "cell_type": "code",
   "execution_count": 4,
   "metadata": {},
   "outputs": [
    {
     "data": {
      "text/plain": [
       "29315"
      ]
     },
     "execution_count": 4,
     "metadata": {},
     "output_type": "execute_result"
    }
   ],
   "source": [
    "len(df)"
   ]
  }
 ],
 "metadata": {
  "kernelspec": {
   "display_name": "Python 3",
   "language": "python",
   "name": "python3"
  },
  "language_info": {
   "codemirror_mode": {
    "name": "ipython",
    "version": 3
   },
   "file_extension": ".py",
   "mimetype": "text/x-python",
   "name": "python",
   "nbconvert_exporter": "python",
   "pygments_lexer": "ipython3",
   "version": "3.6.8"
  }
 },
 "nbformat": 4,
 "nbformat_minor": 2
}
