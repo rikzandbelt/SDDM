{
 "cells": [
  {
   "cell_type": "code",
   "execution_count": 12,
   "metadata": {},
   "outputs": [],
   "source": [
    "import pandas as pd\n",
    "\n",
    "import re\n",
    "import nltk\n",
    "from nltk.corpus import stopwords\n",
    "from gensim.parsing.preprocessing import STOPWORDS as gensim_words\n",
    "import spacy\n",
    "sp = spacy.load('en_core_web_sm')\n",
    "\n",
    "from sklearn.feature_extraction.text import CountVectorizer\n",
    "from sklearn.feature_extraction.text import TfidfVectorizer\n",
    "from sklearn.metrics.pairwise import cosine_similarity\n",
    "\n",
    "import time"
   ]
  },
  {
   "cell_type": "code",
   "execution_count": 13,
   "metadata": {},
   "outputs": [],
   "source": [
    "nltk_stopwords = set(stopwords.words('english')) \\\n",
    "                    .union(set(stopwords.words('german'))) \\\n",
    "                    .union(set(stopwords.words('french')))\n",
    "gensim_stopwords = set(gensim_words)\n",
    "spacy_stopwords = sp.Defaults.stop_words\n",
    "# https://countwordsfree.com/stopwords\n",
    "cwf_stopwords = set(line.strip() for line in open('stop_words.txt'))\n",
    "\n",
    "all_stopwords = list( nltk_stopwords \\\n",
    "                        .union(gensim_stopwords) \\\n",
    "                        .union(spacy_stopwords) \\\n",
    "                        .union(cwf_stopwords) )"
   ]
  },
  {
   "cell_type": "code",
   "execution_count": 14,
   "metadata": {},
   "outputs": [
    {
     "data": {
      "text/html": [
       "<div>\n",
       "<style scoped>\n",
       "    .dataframe tbody tr th:only-of-type {\n",
       "        vertical-align: middle;\n",
       "    }\n",
       "\n",
       "    .dataframe tbody tr th {\n",
       "        vertical-align: top;\n",
       "    }\n",
       "\n",
       "    .dataframe thead th {\n",
       "        text-align: right;\n",
       "    }\n",
       "</style>\n",
       "<table border=\"1\" class=\"dataframe\">\n",
       "  <thead>\n",
       "    <tr style=\"text-align: right;\">\n",
       "      <th></th>\n",
       "      <th>paper_id</th>\n",
       "      <th>title</th>\n",
       "      <th>list_authors</th>\n",
       "      <th>full_text</th>\n",
       "    </tr>\n",
       "  </thead>\n",
       "  <tbody>\n",
       "    <tr>\n",
       "      <th>0</th>\n",
       "      <td>question0</td>\n",
       "      <td>-</td>\n",
       "      <td>-</td>\n",
       "      <td>How does temperature and humidity affect the t...</td>\n",
       "    </tr>\n",
       "    <tr>\n",
       "      <th>1</th>\n",
       "      <td>question1</td>\n",
       "      <td>-</td>\n",
       "      <td>-</td>\n",
       "      <td>Seasonality of transmission</td>\n",
       "    </tr>\n",
       "    <tr>\n",
       "      <th>2</th>\n",
       "      <td>question2</td>\n",
       "      <td>-</td>\n",
       "      <td>-</td>\n",
       "      <td>Effectiveness of inter inner travel restriction</td>\n",
       "    </tr>\n",
       "    <tr>\n",
       "      <th>3</th>\n",
       "      <td>question3</td>\n",
       "      <td>-</td>\n",
       "      <td>-</td>\n",
       "      <td>Effectiveness of personal protective equipment...</td>\n",
       "    </tr>\n",
       "    <tr>\n",
       "      <th>4</th>\n",
       "      <td>question4</td>\n",
       "      <td>-</td>\n",
       "      <td>-</td>\n",
       "      <td>Effectiveness of school distancing</td>\n",
       "    </tr>\n",
       "  </tbody>\n",
       "</table>\n",
       "</div>"
      ],
      "text/plain": [
       "    paper_id title list_authors  \\\n",
       "0  question0     -            -   \n",
       "1  question1     -            -   \n",
       "2  question2     -            -   \n",
       "3  question3     -            -   \n",
       "4  question4     -            -   \n",
       "\n",
       "                                           full_text  \n",
       "0  How does temperature and humidity affect the t...  \n",
       "1                        Seasonality of transmission  \n",
       "2    Effectiveness of inter inner travel restriction  \n",
       "3  Effectiveness of personal protective equipment...  \n",
       "4                 Effectiveness of school distancing  "
      ]
     },
     "execution_count": 14,
     "metadata": {},
     "output_type": "execute_result"
    }
   ],
   "source": [
    "df = pd.read_csv('/home/rikz/Documents/Master/Semester2/SDDM/data/data_full.csv', index_col=0)\n",
    "df.head()"
   ]
  },
  {
   "cell_type": "code",
   "execution_count": 15,
   "metadata": {},
   "outputs": [
    {
     "data": {
      "text/html": [
       "<div>\n",
       "<style scoped>\n",
       "    .dataframe tbody tr th:only-of-type {\n",
       "        vertical-align: middle;\n",
       "    }\n",
       "\n",
       "    .dataframe tbody tr th {\n",
       "        vertical-align: top;\n",
       "    }\n",
       "\n",
       "    .dataframe thead th {\n",
       "        text-align: right;\n",
       "    }\n",
       "</style>\n",
       "<table border=\"1\" class=\"dataframe\">\n",
       "  <thead>\n",
       "    <tr style=\"text-align: right;\">\n",
       "      <th></th>\n",
       "      <th>question_id</th>\n",
       "      <th>full_text</th>\n",
       "    </tr>\n",
       "  </thead>\n",
       "  <tbody>\n",
       "    <tr>\n",
       "      <th>2</th>\n",
       "      <td>2</td>\n",
       "      <td>Effectiveness of inter inner travel restriction</td>\n",
       "    </tr>\n",
       "  </tbody>\n",
       "</table>\n",
       "</div>"
      ],
      "text/plain": [
       "   question_id                                        full_text\n",
       "2            2  Effectiveness of inter inner travel restriction"
      ]
     },
     "execution_count": 15,
     "metadata": {},
     "output_type": "execute_result"
    }
   ],
   "source": [
    "question_num = 2\n",
    "\n",
    "df_questions = pd.read_csv('/home/rikz/Documents/Master/Semester2/SDDM/data/questions.csv')\n",
    "df_questions = df_questions.loc[df_questions.question_id == 2]\n",
    "\n",
    "df_questions.head()"
   ]
  },
  {
   "cell_type": "code",
   "execution_count": 16,
   "metadata": {},
   "outputs": [],
   "source": [
    "time_before = time.time()"
   ]
  },
  {
   "cell_type": "code",
   "execution_count": 17,
   "metadata": {},
   "outputs": [
    {
     "name": "stdout",
     "output_type": "stream",
     "text": [
      "Before removing empty papers and duplicates: 80754 rows.\n",
      "Removed empty papers\n",
      "Removed duplicates\n",
      "After removing empty papers and duplicates: 79570 rows.\n"
     ]
    },
    {
     "data": {
      "text/html": [
       "<div>\n",
       "<style scoped>\n",
       "    .dataframe tbody tr th:only-of-type {\n",
       "        vertical-align: middle;\n",
       "    }\n",
       "\n",
       "    .dataframe tbody tr th {\n",
       "        vertical-align: top;\n",
       "    }\n",
       "\n",
       "    .dataframe thead th {\n",
       "        text-align: right;\n",
       "    }\n",
       "</style>\n",
       "<table border=\"1\" class=\"dataframe\">\n",
       "  <thead>\n",
       "    <tr style=\"text-align: right;\">\n",
       "      <th></th>\n",
       "      <th>paper_id</th>\n",
       "      <th>title</th>\n",
       "      <th>list_authors</th>\n",
       "      <th>full_text</th>\n",
       "    </tr>\n",
       "  </thead>\n",
       "  <tbody>\n",
       "    <tr>\n",
       "      <th>0</th>\n",
       "      <td>question0</td>\n",
       "      <td>-</td>\n",
       "      <td>-</td>\n",
       "      <td>How does temperature and humidity affect the t...</td>\n",
       "    </tr>\n",
       "    <tr>\n",
       "      <th>1</th>\n",
       "      <td>question1</td>\n",
       "      <td>-</td>\n",
       "      <td>-</td>\n",
       "      <td>Seasonality of transmission</td>\n",
       "    </tr>\n",
       "    <tr>\n",
       "      <th>2</th>\n",
       "      <td>question2</td>\n",
       "      <td>-</td>\n",
       "      <td>-</td>\n",
       "      <td>Effectiveness of inter inner travel restriction</td>\n",
       "    </tr>\n",
       "    <tr>\n",
       "      <th>3</th>\n",
       "      <td>question3</td>\n",
       "      <td>-</td>\n",
       "      <td>-</td>\n",
       "      <td>Effectiveness of personal protective equipment...</td>\n",
       "    </tr>\n",
       "    <tr>\n",
       "      <th>4</th>\n",
       "      <td>question4</td>\n",
       "      <td>-</td>\n",
       "      <td>-</td>\n",
       "      <td>Effectiveness of school distancing</td>\n",
       "    </tr>\n",
       "  </tbody>\n",
       "</table>\n",
       "</div>"
      ],
      "text/plain": [
       "    paper_id title list_authors  \\\n",
       "0  question0     -            -   \n",
       "1  question1     -            -   \n",
       "2  question2     -            -   \n",
       "3  question3     -            -   \n",
       "4  question4     -            -   \n",
       "\n",
       "                                           full_text  \n",
       "0  How does temperature and humidity affect the t...  \n",
       "1                        Seasonality of transmission  \n",
       "2    Effectiveness of inter inner travel restriction  \n",
       "3  Effectiveness of personal protective equipment...  \n",
       "4                 Effectiveness of school distancing  "
      ]
     },
     "execution_count": 17,
     "metadata": {},
     "output_type": "execute_result"
    }
   ],
   "source": [
    "# Peprocess the data\n",
    "print(\"Before removing empty papers and duplicates: {} rows.\".format(len(df)))\n",
    "df = df.dropna(subset=['full_text'])\n",
    "print(\"Removed empty papers\")\n",
    "df = df.drop_duplicates(subset=['full_text'])\n",
    "print(\"Removed duplicates\")\n",
    "print(\"After removing empty papers and duplicates: {} rows.\".format(len(df)))\n",
    "\n",
    "df.head()"
   ]
  },
  {
   "cell_type": "code",
   "execution_count": null,
   "metadata": {},
   "outputs": [],
   "source": [
    "def preprocess(text):\n",
    "    tokenizer = nltk.tokenize.WhitespaceTokenizer()\n",
    "    lemmatizer = nltk.stem.WordNetLemmatizer()\n",
    "    # Make text lower case\n",
    "    preprocessed = text.lower()\n",
    "    # Remove numbers and special characters\n",
    "    preprocessed = re.sub('[^a-z ]+', '', preprocessed)\n",
    "    # Remove white spaces\n",
    "    preprocessed = preprocessed.strip()\n",
    "    # Lemmatize text\n",
    "    preprocessed = ''.join(lemmatizer.lemmatize(w)+' ' for w in tokenizer.tokenize(preprocessed))\n",
    "    \n",
    "    return preprocessed\n",
    "    \n",
    "df['preprocessed'] = df.full_text.apply(preprocess)"
   ]
  },
  {
   "cell_type": "code",
   "execution_count": null,
   "metadata": {},
   "outputs": [],
   "source": [
    "df.head()"
   ]
  },
  {
   "cell_type": "code",
   "execution_count": null,
   "metadata": {},
   "outputs": [],
   "source": [
    "vectorizer = CountVectorizer(stop_words=all_stopwords)\n",
    "vectorizer.fit_transform(df['preprocessed'])"
   ]
  },
  {
   "cell_type": "code",
   "execution_count": null,
   "metadata": {},
   "outputs": [],
   "source": [
    "time_after = time.time()"
   ]
  },
  {
   "cell_type": "code",
   "execution_count": null,
   "metadata": {},
   "outputs": [],
   "source": [
    "print('Preprocessing time: {} sec'.format(time_after-time_before) )"
   ]
  }
 ],
 "metadata": {
  "kernelspec": {
   "display_name": "Python 3",
   "language": "python",
   "name": "python3"
  },
  "language_info": {
   "codemirror_mode": {
    "name": "ipython",
    "version": 3
   },
   "file_extension": ".py",
   "mimetype": "text/x-python",
   "name": "python",
   "nbconvert_exporter": "python",
   "pygments_lexer": "ipython3",
   "version": "3.7.5"
  }
 },
 "nbformat": 4,
 "nbformat_minor": 4
}
