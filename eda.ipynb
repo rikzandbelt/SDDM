{
 "cells": [
  {
   "cell_type": "markdown",
   "metadata": {},
   "source": [
    "### This notebook performs an Exploratory Data Analysis on the data from the papers"
   ]
  },
  {
   "cell_type": "code",
   "execution_count": 4,
   "metadata": {},
   "outputs": [],
   "source": [
    "# Import packages\n",
    "import pandas as pd\n",
    "import spacy\n",
    "import matplotlib as plt"
   ]
  },
  {
   "cell_type": "markdown",
   "metadata": {},
   "source": [
    "### First we load the data from the csv file and show the first 5 rows:"
   ]
  },
  {
   "cell_type": "code",
   "execution_count": 13,
   "metadata": {},
   "outputs": [
    {
     "data": {
      "text/html": [
       "<div>\n",
       "<style scoped>\n",
       "    .dataframe tbody tr th:only-of-type {\n",
       "        vertical-align: middle;\n",
       "    }\n",
       "\n",
       "    .dataframe tbody tr th {\n",
       "        vertical-align: top;\n",
       "    }\n",
       "\n",
       "    .dataframe thead th {\n",
       "        text-align: right;\n",
       "    }\n",
       "</style>\n",
       "<table border=\"1\" class=\"dataframe\">\n",
       "  <thead>\n",
       "    <tr style=\"text-align: right;\">\n",
       "      <th></th>\n",
       "      <th>paper_id</th>\n",
       "      <th>title</th>\n",
       "      <th>list_authors</th>\n",
       "      <th>abstract</th>\n",
       "      <th>full_text</th>\n",
       "    </tr>\n",
       "  </thead>\n",
       "  <tbody>\n",
       "    <tr>\n",
       "      <th>0</th>\n",
       "      <td>d23c6a066a58dbe5ec5fa57e67f1b795337299f7</td>\n",
       "      <td>LY6E impairs coronavirus fusion and confers im...</td>\n",
       "      <td>['Stephanie Pfaender', 'Katrina B Mar 4#', 'El...</td>\n",
       "      <td>Zoonotic coronaviruses (CoVs) are significant ...</td>\n",
       "      <td>4 hepatoma cells was largely specific to CoV. ...</td>\n",
       "    </tr>\n",
       "    <tr>\n",
       "      <th>1</th>\n",
       "      <td>618cd102ec5051a05ca5131e21961c964152f15c</td>\n",
       "      <td>Mating strategy is determinant of Adenovirus p...</td>\n",
       "      <td>['Federica Rossetto', 'Maria Iglesias-Caballer...</td>\n",
       "      <td>Adenoviruses are double-strained DNA viruses f...</td>\n",
       "      <td>across species, we found that the number of Ad...</td>\n",
       "    </tr>\n",
       "    <tr>\n",
       "      <th>2</th>\n",
       "      <td>ac81102667b0d56edeb8ab0044765dc49a19f374</td>\n",
       "      <td>Determination of host cell proteins constituti...</td>\n",
       "      <td>['V&amp;apos;kovski Philip', 'Gerber Markus', 'Kel...</td>\n",
       "      <td>Positive-sense RNA viruses hijack intracellula...</td>\n",
       "      <td>8 peptide of only 14 amino acids at the carbox...</td>\n",
       "    </tr>\n",
       "    <tr>\n",
       "      <th>3</th>\n",
       "      <td>35ac99bfeb665ce0a2ae361dba1161e69eb8b7d5</td>\n",
       "      <td>ΦX174 Attenuation by Whole Genome Codon Deopti...</td>\n",
       "      <td>['James T Van Leuven', 'Martina M Ederer', 'Ka...</td>\n",
       "      <td>Natural selection acting on synonymous mutatio...</td>\n",
       "      <td>The unequal use of synonymous codons is known ...</td>\n",
       "    </tr>\n",
       "    <tr>\n",
       "      <th>4</th>\n",
       "      <td>ad146e228bda4e5a3d56b28a3a1acbd01e0b323e</td>\n",
       "      <td>Modelling the epidemic 2019-nCoV event in Ital...</td>\n",
       "      <td>['Marco Claudio Traini', 'Carla Caponi', 'Gius...</td>\n",
       "      <td>NaN</td>\n",
       "      <td>Late December 2019 health facilities reported ...</td>\n",
       "    </tr>\n",
       "  </tbody>\n",
       "</table>\n",
       "</div>"
      ],
      "text/plain": [
       "                                   paper_id  \\\n",
       "0  d23c6a066a58dbe5ec5fa57e67f1b795337299f7   \n",
       "1  618cd102ec5051a05ca5131e21961c964152f15c   \n",
       "2  ac81102667b0d56edeb8ab0044765dc49a19f374   \n",
       "3  35ac99bfeb665ce0a2ae361dba1161e69eb8b7d5   \n",
       "4  ad146e228bda4e5a3d56b28a3a1acbd01e0b323e   \n",
       "\n",
       "                                               title  \\\n",
       "0  LY6E impairs coronavirus fusion and confers im...   \n",
       "1  Mating strategy is determinant of Adenovirus p...   \n",
       "2  Determination of host cell proteins constituti...   \n",
       "3  ΦX174 Attenuation by Whole Genome Codon Deopti...   \n",
       "4  Modelling the epidemic 2019-nCoV event in Ital...   \n",
       "\n",
       "                                        list_authors  \\\n",
       "0  ['Stephanie Pfaender', 'Katrina B Mar 4#', 'El...   \n",
       "1  ['Federica Rossetto', 'Maria Iglesias-Caballer...   \n",
       "2  ['V&apos;kovski Philip', 'Gerber Markus', 'Kel...   \n",
       "3  ['James T Van Leuven', 'Martina M Ederer', 'Ka...   \n",
       "4  ['Marco Claudio Traini', 'Carla Caponi', 'Gius...   \n",
       "\n",
       "                                            abstract  \\\n",
       "0  Zoonotic coronaviruses (CoVs) are significant ...   \n",
       "1  Adenoviruses are double-strained DNA viruses f...   \n",
       "2  Positive-sense RNA viruses hijack intracellula...   \n",
       "3  Natural selection acting on synonymous mutatio...   \n",
       "4                                                NaN   \n",
       "\n",
       "                                           full_text  \n",
       "0  4 hepatoma cells was largely specific to CoV. ...  \n",
       "1  across species, we found that the number of Ad...  \n",
       "2  8 peptide of only 14 amino acids at the carbox...  \n",
       "3  The unequal use of synonymous codons is known ...  \n",
       "4  Late December 2019 health facilities reported ...  "
      ]
     },
     "execution_count": 13,
     "metadata": {},
     "output_type": "execute_result"
    }
   ],
   "source": [
    "df = pd.read_csv('/data/s1847503/SDDM/data.csv', index_col=0)\n",
    "df.head()"
   ]
  },
  {
   "cell_type": "markdown",
   "metadata": {},
   "source": [
    "### Now we investigate which words appear most in the papers"
   ]
  },
  {
   "cell_type": "code",
   "execution_count": null,
   "metadata": {},
   "outputs": [],
   "source": [
    "nlp = spacy.load('en_core_web_sm')\n",
    "\n",
    "# Returns a list of words in a given document while removing punctuation, whitespaces and stop words\n",
    "def lemmas(doc):\n",
    "    return [word.lemma_ for word in doc if word.is_alpha and not (word.is_punct or word.is_space or word.is_stop)]\n",
    "\n",
    "\n",
    "# Returns the words in a given document in a bag of words notation \n",
    "def bag_of_words(doc):\n",
    "    bag = {}\n",
    "    for word in lemmas(doc):\n",
    "        if word in bag:\n",
    "            bag[word] += 1\n",
    "        else:\n",
    "            bag[word] = 1\n",
    "    return bag\n",
    "\n",
    "df['full_text'] = df['full_text'].apply(nlp)\n",
    "print(\"done\")\n",
    "df['bag_of_words'] = df['full_text'].apply(bag_of_words)\n",
    "df.head()"
   ]
  },
  {
   "cell_type": "code",
   "execution_count": 4,
   "metadata": {},
   "outputs": [
    {
     "name": "stdout",
     "output_type": "stream",
     "text": [
      "The dataset contains 29037 articles\n"
     ]
    }
   ],
   "source": [
    "print(\"The dataset contains %d articles\" % len(df))"
   ]
  }
 ],
 "metadata": {
  "kernelspec": {
   "display_name": "Python 3",
   "language": "python",
   "name": "python3"
  },
  "language_info": {
   "codemirror_mode": {
    "name": "ipython",
    "version": 3
   },
   "file_extension": ".py",
   "mimetype": "text/x-python",
   "name": "python",
   "nbconvert_exporter": "python",
   "pygments_lexer": "ipython3",
   "version": "3.7.7"
  }
 },
 "nbformat": 4,
 "nbformat_minor": 2
}
