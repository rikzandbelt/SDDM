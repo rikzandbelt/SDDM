{
 "cells": [
  {
   "cell_type": "markdown",
   "metadata": {},
   "source": [
    "### This notebook performs an Exploratory Data Analysis on the data from the papers"
   ]
  },
  {
   "cell_type": "code",
   "execution_count": 57,
   "metadata": {},
   "outputs": [],
   "source": [
    "# Import packages\n",
    "import pandas as pd\n",
    "import matplotlib as plt\n",
    "import nltk\n",
    "import string"
   ]
  },
  {
   "cell_type": "markdown",
   "metadata": {},
   "source": [
    "### First we load the data from the csv file and show the first 5 rows:"
   ]
  },
  {
   "cell_type": "code",
   "execution_count": 59,
   "metadata": {},
   "outputs": [
    {
     "data": {
      "text/html": [
       "<div>\n",
       "<style scoped>\n",
       "    .dataframe tbody tr th:only-of-type {\n",
       "        vertical-align: middle;\n",
       "    }\n",
       "\n",
       "    .dataframe tbody tr th {\n",
       "        vertical-align: top;\n",
       "    }\n",
       "\n",
       "    .dataframe thead th {\n",
       "        text-align: right;\n",
       "    }\n",
       "</style>\n",
       "<table border=\"1\" class=\"dataframe\">\n",
       "  <thead>\n",
       "    <tr style=\"text-align: right;\">\n",
       "      <th></th>\n",
       "      <th>paper_id</th>\n",
       "      <th>title</th>\n",
       "      <th>list_authors</th>\n",
       "      <th>abstract</th>\n",
       "      <th>full_text</th>\n",
       "    </tr>\n",
       "  </thead>\n",
       "  <tbody>\n",
       "    <tr>\n",
       "      <th>0</th>\n",
       "      <td>d23c6a066a58dbe5ec5fa57e67f1b795337299f7</td>\n",
       "      <td>LY6E impairs coronavirus fusion and confers im...</td>\n",
       "      <td>['Stephanie Pfaender', 'Katrina B Mar 4#', 'El...</td>\n",
       "      <td>Zoonotic coronaviruses (CoVs) are significant ...</td>\n",
       "      <td>4 hepatoma cells was largely specific to CoV. ...</td>\n",
       "    </tr>\n",
       "    <tr>\n",
       "      <th>1</th>\n",
       "      <td>618cd102ec5051a05ca5131e21961c964152f15c</td>\n",
       "      <td>Mating strategy is determinant of Adenovirus p...</td>\n",
       "      <td>['Federica Rossetto', 'Maria Iglesias-Caballer...</td>\n",
       "      <td>Adenoviruses are double-strained DNA viruses f...</td>\n",
       "      <td>across species, we found that the number of Ad...</td>\n",
       "    </tr>\n",
       "    <tr>\n",
       "      <th>2</th>\n",
       "      <td>ac81102667b0d56edeb8ab0044765dc49a19f374</td>\n",
       "      <td>Determination of host cell proteins constituti...</td>\n",
       "      <td>['V&amp;apos;kovski Philip', 'Gerber Markus', 'Kel...</td>\n",
       "      <td>Positive-sense RNA viruses hijack intracellula...</td>\n",
       "      <td>8 peptide of only 14 amino acids at the carbox...</td>\n",
       "    </tr>\n",
       "    <tr>\n",
       "      <th>3</th>\n",
       "      <td>35ac99bfeb665ce0a2ae361dba1161e69eb8b7d5</td>\n",
       "      <td>ΦX174 Attenuation by Whole Genome Codon Deopti...</td>\n",
       "      <td>['James T Van Leuven', 'Martina M Ederer', 'Ka...</td>\n",
       "      <td>Natural selection acting on synonymous mutatio...</td>\n",
       "      <td>The unequal use of synonymous codons is known ...</td>\n",
       "    </tr>\n",
       "    <tr>\n",
       "      <th>4</th>\n",
       "      <td>ad146e228bda4e5a3d56b28a3a1acbd01e0b323e</td>\n",
       "      <td>Modelling the epidemic 2019-nCoV event in Ital...</td>\n",
       "      <td>['Marco Claudio Traini', 'Carla Caponi', 'Gius...</td>\n",
       "      <td>NaN</td>\n",
       "      <td>Late December 2019 health facilities reported ...</td>\n",
       "    </tr>\n",
       "  </tbody>\n",
       "</table>\n",
       "</div>"
      ],
      "text/plain": [
       "                                   paper_id  \\\n",
       "0  d23c6a066a58dbe5ec5fa57e67f1b795337299f7   \n",
       "1  618cd102ec5051a05ca5131e21961c964152f15c   \n",
       "2  ac81102667b0d56edeb8ab0044765dc49a19f374   \n",
       "3  35ac99bfeb665ce0a2ae361dba1161e69eb8b7d5   \n",
       "4  ad146e228bda4e5a3d56b28a3a1acbd01e0b323e   \n",
       "\n",
       "                                               title  \\\n",
       "0  LY6E impairs coronavirus fusion and confers im...   \n",
       "1  Mating strategy is determinant of Adenovirus p...   \n",
       "2  Determination of host cell proteins constituti...   \n",
       "3  ΦX174 Attenuation by Whole Genome Codon Deopti...   \n",
       "4  Modelling the epidemic 2019-nCoV event in Ital...   \n",
       "\n",
       "                                        list_authors  \\\n",
       "0  ['Stephanie Pfaender', 'Katrina B Mar 4#', 'El...   \n",
       "1  ['Federica Rossetto', 'Maria Iglesias-Caballer...   \n",
       "2  ['V&apos;kovski Philip', 'Gerber Markus', 'Kel...   \n",
       "3  ['James T Van Leuven', 'Martina M Ederer', 'Ka...   \n",
       "4  ['Marco Claudio Traini', 'Carla Caponi', 'Gius...   \n",
       "\n",
       "                                            abstract  \\\n",
       "0  Zoonotic coronaviruses (CoVs) are significant ...   \n",
       "1  Adenoviruses are double-strained DNA viruses f...   \n",
       "2  Positive-sense RNA viruses hijack intracellula...   \n",
       "3  Natural selection acting on synonymous mutatio...   \n",
       "4                                                NaN   \n",
       "\n",
       "                                           full_text  \n",
       "0  4 hepatoma cells was largely specific to CoV. ...  \n",
       "1  across species, we found that the number of Ad...  \n",
       "2  8 peptide of only 14 amino acids at the carbox...  \n",
       "3  The unequal use of synonymous codons is known ...  \n",
       "4  Late December 2019 health facilities reported ...  "
      ]
     },
     "execution_count": 59,
     "metadata": {},
     "output_type": "execute_result"
    }
   ],
   "source": [
    "df = pd.read_csv('/data/s1847503/SDDM/data.csv', index_col=0)\n",
    "df.head()"
   ]
  },
  {
   "cell_type": "markdown",
   "metadata": {},
   "source": [
    "### Now we investigate which words appear most in the papers"
   ]
  },
  {
   "cell_type": "code",
   "execution_count": 60,
   "metadata": {},
   "outputs": [
    {
     "data": {
      "text/html": [
       "<div>\n",
       "<style scoped>\n",
       "    .dataframe tbody tr th:only-of-type {\n",
       "        vertical-align: middle;\n",
       "    }\n",
       "\n",
       "    .dataframe tbody tr th {\n",
       "        vertical-align: top;\n",
       "    }\n",
       "\n",
       "    .dataframe thead th {\n",
       "        text-align: right;\n",
       "    }\n",
       "</style>\n",
       "<table border=\"1\" class=\"dataframe\">\n",
       "  <thead>\n",
       "    <tr style=\"text-align: right;\">\n",
       "      <th></th>\n",
       "      <th>paper_id</th>\n",
       "      <th>title</th>\n",
       "      <th>list_authors</th>\n",
       "      <th>abstract</th>\n",
       "      <th>full_text</th>\n",
       "      <th>text_length</th>\n",
       "    </tr>\n",
       "  </thead>\n",
       "  <tbody>\n",
       "    <tr>\n",
       "      <th>0</th>\n",
       "      <td>d23c6a066a58dbe5ec5fa57e67f1b795337299f7</td>\n",
       "      <td>LY6E impairs coronavirus fusion and confers im...</td>\n",
       "      <td>['Stephanie Pfaender', 'Katrina B Mar 4#', 'El...</td>\n",
       "      <td>Zoonotic coronaviruses (CoVs) are significant ...</td>\n",
       "      <td>4 hepatoma cells was largely specific to cov. ...</td>\n",
       "      <td>5770</td>\n",
       "    </tr>\n",
       "    <tr>\n",
       "      <th>1</th>\n",
       "      <td>618cd102ec5051a05ca5131e21961c964152f15c</td>\n",
       "      <td>Mating strategy is determinant of Adenovirus p...</td>\n",
       "      <td>['Federica Rossetto', 'Maria Iglesias-Caballer...</td>\n",
       "      <td>Adenoviruses are double-strained DNA viruses f...</td>\n",
       "      <td>across species, we found that the number of ad...</td>\n",
       "      <td>832</td>\n",
       "    </tr>\n",
       "    <tr>\n",
       "      <th>2</th>\n",
       "      <td>ac81102667b0d56edeb8ab0044765dc49a19f374</td>\n",
       "      <td>Determination of host cell proteins constituti...</td>\n",
       "      <td>['V&amp;apos;kovski Philip', 'Gerber Markus', 'Kel...</td>\n",
       "      <td>Positive-sense RNA viruses hijack intracellula...</td>\n",
       "      <td>8 peptide of only 14 amino acids at the carbox...</td>\n",
       "      <td>1102</td>\n",
       "    </tr>\n",
       "    <tr>\n",
       "      <th>3</th>\n",
       "      <td>35ac99bfeb665ce0a2ae361dba1161e69eb8b7d5</td>\n",
       "      <td>ΦX174 Attenuation by Whole Genome Codon Deopti...</td>\n",
       "      <td>['James T Van Leuven', 'Martina M Ederer', 'Ka...</td>\n",
       "      <td>Natural selection acting on synonymous mutatio...</td>\n",
       "      <td>the unequal use of synonymous codons is known ...</td>\n",
       "      <td>4807</td>\n",
       "    </tr>\n",
       "    <tr>\n",
       "      <th>4</th>\n",
       "      <td>ad146e228bda4e5a3d56b28a3a1acbd01e0b323e</td>\n",
       "      <td>Modelling the epidemic 2019-nCoV event in Ital...</td>\n",
       "      <td>['Marco Claudio Traini', 'Carla Caponi', 'Gius...</td>\n",
       "      <td>NaN</td>\n",
       "      <td>late december 2019 health facilities reported ...</td>\n",
       "      <td>1214</td>\n",
       "    </tr>\n",
       "  </tbody>\n",
       "</table>\n",
       "</div>"
      ],
      "text/plain": [
       "                                   paper_id  \\\n",
       "0  d23c6a066a58dbe5ec5fa57e67f1b795337299f7   \n",
       "1  618cd102ec5051a05ca5131e21961c964152f15c   \n",
       "2  ac81102667b0d56edeb8ab0044765dc49a19f374   \n",
       "3  35ac99bfeb665ce0a2ae361dba1161e69eb8b7d5   \n",
       "4  ad146e228bda4e5a3d56b28a3a1acbd01e0b323e   \n",
       "\n",
       "                                               title  \\\n",
       "0  LY6E impairs coronavirus fusion and confers im...   \n",
       "1  Mating strategy is determinant of Adenovirus p...   \n",
       "2  Determination of host cell proteins constituti...   \n",
       "3  ΦX174 Attenuation by Whole Genome Codon Deopti...   \n",
       "4  Modelling the epidemic 2019-nCoV event in Ital...   \n",
       "\n",
       "                                        list_authors  \\\n",
       "0  ['Stephanie Pfaender', 'Katrina B Mar 4#', 'El...   \n",
       "1  ['Federica Rossetto', 'Maria Iglesias-Caballer...   \n",
       "2  ['V&apos;kovski Philip', 'Gerber Markus', 'Kel...   \n",
       "3  ['James T Van Leuven', 'Martina M Ederer', 'Ka...   \n",
       "4  ['Marco Claudio Traini', 'Carla Caponi', 'Gius...   \n",
       "\n",
       "                                            abstract  \\\n",
       "0  Zoonotic coronaviruses (CoVs) are significant ...   \n",
       "1  Adenoviruses are double-strained DNA viruses f...   \n",
       "2  Positive-sense RNA viruses hijack intracellula...   \n",
       "3  Natural selection acting on synonymous mutatio...   \n",
       "4                                                NaN   \n",
       "\n",
       "                                           full_text  text_length  \n",
       "0  4 hepatoma cells was largely specific to cov. ...         5770  \n",
       "1  across species, we found that the number of ad...          832  \n",
       "2  8 peptide of only 14 amino acids at the carbox...         1102  \n",
       "3  the unequal use of synonymous codons is known ...         4807  \n",
       "4  late december 2019 health facilities reported ...         1214  "
      ]
     },
     "execution_count": 60,
     "metadata": {},
     "output_type": "execute_result"
    }
   ],
   "source": [
    "# Remove interpunction\n",
    "def clean_text(text):\n",
    "    new_text = text\n",
    "    for i in string.punctuation:\n",
    "        new_text = new_text.replace(i,\"\")\n",
    "    new_text = text.lower()\n",
    "    return new_text\n",
    "\n",
    "df['full_text'] = df['full_text'].apply(clean_text)\n",
    "df['text_length'] = df['full_text'].apply(lambda x: len(x.split()))\n",
    "df = df.loc[df['text_length'] > 100]\n",
    "df.head()"
   ]
  },
  {
   "cell_type": "code",
   "execution_count": 61,
   "metadata": {},
   "outputs": [
    {
     "name": "stdout",
     "output_type": "stream",
     "text": [
      "The dataset contains 29037 articles\n"
     ]
    }
   ],
   "source": [
    "print(\"The dataset contains %d articles\" % len(df))"
   ]
  },
  {
   "cell_type": "code",
   "execution_count": 62,
   "metadata": {},
   "outputs": [
    {
     "data": {
      "text/plain": [
       "count     29037.000000\n",
       "mean       4813.203258\n",
       "std        7288.336320\n",
       "min         101.000000\n",
       "25%        2460.000000\n",
       "50%        3726.000000\n",
       "75%        5494.000000\n",
       "max      257745.000000\n",
       "Name: text_length, dtype: float64"
      ]
     },
     "execution_count": 62,
     "metadata": {},
     "output_type": "execute_result"
    }
   ],
   "source": [
    "df['text_length'].describe().transpose()"
   ]
  },
  {
   "cell_type": "code",
   "execution_count": 63,
   "metadata": {},
   "outputs": [
    {
     "data": {
      "text/plain": [
       "[]"
      ]
     },
     "execution_count": 63,
     "metadata": {},
     "output_type": "execute_result"
    },
    {
     "data": {
      "image/png": "[encoded data removed]",
      "text/plain": [
       "<Figure size 432x288 with 1 Axes>"
      ]
     },
     "metadata": {
      "needs_background": "light"
     },
     "output_type": "display_data"
    }
   ],
   "source": [
    "boxplot = df.boxplot(column=['text_length'])\n",
    "boxplot.plot()"
   ]
  },
  {
   "cell_type": "code",
   "execution_count": 65,
   "metadata": {},
   "outputs": [
    {
     "name": "stderr",
     "output_type": "stream",
     "text": [
      "[nltk_data] Downloading package stopwords to\n",
      "[nltk_data]     /home/s1847503/nltk_data...\n",
      "[nltk_data]   Package stopwords is already up-to-date!\n"
     ]
    },
    {
     "ename": "ValueError",
     "evalue": "The truth value of an array with more than one element is ambiguous. Use a.any() or a.all()",
     "output_type": "error",
     "traceback": [
      "\u001b[0;31m---------------------------------------------------------------------------\u001b[0m",
      "\u001b[0;31mValueError\u001b[0m                                Traceback (most recent call last)",
      "\u001b[0;32m<ipython-input-65-b57a2ddee2a3>\u001b[0m in \u001b[0;36m<module>\u001b[0;34m\u001b[0m\n\u001b[1;32m      4\u001b[0m \u001b[0;34m\u001b[0m\u001b[0m\n\u001b[1;32m      5\u001b[0m \u001b[0mcounts\u001b[0m \u001b[0;34m=\u001b[0m \u001b[0mpd\u001b[0m\u001b[0;34m.\u001b[0m\u001b[0mSeries\u001b[0m\u001b[0;34m(\u001b[0m\u001b[0;34m' '\u001b[0m\u001b[0;34m.\u001b[0m\u001b[0mjoin\u001b[0m\u001b[0;34m(\u001b[0m\u001b[0mdf\u001b[0m\u001b[0;34m[\u001b[0m\u001b[0;34m'full_text'\u001b[0m\u001b[0;34m]\u001b[0m\u001b[0;34m)\u001b[0m\u001b[0;34m.\u001b[0m\u001b[0msplit\u001b[0m\u001b[0;34m(\u001b[0m\u001b[0;34m)\u001b[0m\u001b[0;34m)\u001b[0m\u001b[0;34m.\u001b[0m\u001b[0mvalue_counts\u001b[0m\u001b[0;34m(\u001b[0m\u001b[0;34m)\u001b[0m\u001b[0;34m\u001b[0m\u001b[0;34m\u001b[0m\u001b[0m\n\u001b[0;32m----> 6\u001b[0;31m \u001b[0mcounts\u001b[0m \u001b[0;34m=\u001b[0m \u001b[0mcounts\u001b[0m\u001b[0;34m.\u001b[0m\u001b[0mloc\u001b[0m\u001b[0;34m[\u001b[0m\u001b[0mcounts\u001b[0m\u001b[0;34m.\u001b[0m\u001b[0mindex\u001b[0m \u001b[0;32mnot\u001b[0m \u001b[0;32min\u001b[0m \u001b[0mstopwords\u001b[0m\u001b[0;34m]\u001b[0m\u001b[0;34m\u001b[0m\u001b[0;34m\u001b[0m\u001b[0m\n\u001b[0m\u001b[1;32m      7\u001b[0m \u001b[0mcounts\u001b[0m\u001b[0;34m[\u001b[0m\u001b[0;34m:\u001b[0m\u001b[0;36m100\u001b[0m\u001b[0;34m]\u001b[0m\u001b[0;34m\u001b[0m\u001b[0;34m\u001b[0m\u001b[0m\n",
      "\u001b[0;31mValueError\u001b[0m: The truth value of an array with more than one element is ambiguous. Use a.any() or a.all()"
     ]
    }
   ],
   "source": [
    "# Print most common words\n",
    "nltk.download('stopwords')\n",
    "stopwords = nltk.corpus.stopwords.words('english')\n",
    "\n",
    "counts = pd.Series(' '.join(df['full_text']).split()).value_counts()\n",
    "counts = counts.loc[counts.index not in stopwords]\n",
    "counts[:100]"
   ]
  },
  {
   "cell_type": "code",
   "execution_count": 41,
   "metadata": {},
   "outputs": [
    {
     "name": "stderr",
     "output_type": "stream",
     "text": [
      "[nltk_data] Downloading package stopwords to\n",
      "[nltk_data]     /home/s1847503/nltk_data...\n",
      "[nltk_data]   Package stopwords is already up-to-date!\n"
     ]
    },
    {
     "data": {
      "text/html": [
       "<div>\n",
       "<style scoped>\n",
       "    .dataframe tbody tr th:only-of-type {\n",
       "        vertical-align: middle;\n",
       "    }\n",
       "\n",
       "    .dataframe tbody tr th {\n",
       "        vertical-align: top;\n",
       "    }\n",
       "\n",
       "    .dataframe thead th {\n",
       "        text-align: right;\n",
       "    }\n",
       "</style>\n",
       "<table border=\"1\" class=\"dataframe\">\n",
       "  <thead>\n",
       "    <tr style=\"text-align: right;\">\n",
       "      <th></th>\n",
       "      <th>paper_id</th>\n",
       "      <th>title</th>\n",
       "      <th>list_authors</th>\n",
       "      <th>abstract</th>\n",
       "      <th>full_text</th>\n",
       "      <th>text_length</th>\n",
       "    </tr>\n",
       "  </thead>\n",
       "  <tbody>\n",
       "    <tr>\n",
       "      <th>0</th>\n",
       "      <td>d23c6a066a58dbe5ec5fa57e67f1b795337299f7</td>\n",
       "      <td>LY6E impairs coronavirus fusion and confers im...</td>\n",
       "      <td>['Stephanie Pfaender', 'Katrina B Mar 4#', 'El...</td>\n",
       "      <td>Zoonotic coronaviruses (CoVs) are significant ...</td>\n",
       "      <td>[4, hepatoma, cells, largely, specific, cov., ...</td>\n",
       "      <td>5770</td>\n",
       "    </tr>\n",
       "    <tr>\n",
       "      <th>1</th>\n",
       "      <td>618cd102ec5051a05ca5131e21961c964152f15c</td>\n",
       "      <td>Mating strategy is determinant of Adenovirus p...</td>\n",
       "      <td>['Federica Rossetto', 'Maria Iglesias-Caballer...</td>\n",
       "      <td>Adenoviruses are double-strained DNA viruses f...</td>\n",
       "      <td>[across, species,, found, number, adenoviruses...</td>\n",
       "      <td>832</td>\n",
       "    </tr>\n",
       "    <tr>\n",
       "      <th>2</th>\n",
       "      <td>ac81102667b0d56edeb8ab0044765dc49a19f374</td>\n",
       "      <td>Determination of host cell proteins constituti...</td>\n",
       "      <td>['V&amp;apos;kovski Philip', 'Gerber Markus', 'Kel...</td>\n",
       "      <td>Positive-sense RNA viruses hijack intracellula...</td>\n",
       "      <td>[8, peptide, 14, amino, acids, carboxyterminus...</td>\n",
       "      <td>1102</td>\n",
       "    </tr>\n",
       "    <tr>\n",
       "      <th>3</th>\n",
       "      <td>35ac99bfeb665ce0a2ae361dba1161e69eb8b7d5</td>\n",
       "      <td>ΦX174 Attenuation by Whole Genome Codon Deopti...</td>\n",
       "      <td>['James T Van Leuven', 'Martina M Ederer', 'Ka...</td>\n",
       "      <td>Natural selection acting on synonymous mutatio...</td>\n",
       "      <td>[unequal, use, synonymous, codons, known, codo...</td>\n",
       "      <td>4807</td>\n",
       "    </tr>\n",
       "    <tr>\n",
       "      <th>4</th>\n",
       "      <td>ad146e228bda4e5a3d56b28a3a1acbd01e0b323e</td>\n",
       "      <td>Modelling the epidemic 2019-nCoV event in Ital...</td>\n",
       "      <td>['Marco Claudio Traini', 'Carla Caponi', 'Gius...</td>\n",
       "      <td>NaN</td>\n",
       "      <td>[late, december, 2019, health, facilities, rep...</td>\n",
       "      <td>1214</td>\n",
       "    </tr>\n",
       "  </tbody>\n",
       "</table>\n",
       "</div>"
      ],
      "text/plain": [
       "                                   paper_id  \\\n",
       "0  d23c6a066a58dbe5ec5fa57e67f1b795337299f7   \n",
       "1  618cd102ec5051a05ca5131e21961c964152f15c   \n",
       "2  ac81102667b0d56edeb8ab0044765dc49a19f374   \n",
       "3  35ac99bfeb665ce0a2ae361dba1161e69eb8b7d5   \n",
       "4  ad146e228bda4e5a3d56b28a3a1acbd01e0b323e   \n",
       "\n",
       "                                               title  \\\n",
       "0  LY6E impairs coronavirus fusion and confers im...   \n",
       "1  Mating strategy is determinant of Adenovirus p...   \n",
       "2  Determination of host cell proteins constituti...   \n",
       "3  ΦX174 Attenuation by Whole Genome Codon Deopti...   \n",
       "4  Modelling the epidemic 2019-nCoV event in Ital...   \n",
       "\n",
       "                                        list_authors  \\\n",
       "0  ['Stephanie Pfaender', 'Katrina B Mar 4#', 'El...   \n",
       "1  ['Federica Rossetto', 'Maria Iglesias-Caballer...   \n",
       "2  ['V&apos;kovski Philip', 'Gerber Markus', 'Kel...   \n",
       "3  ['James T Van Leuven', 'Martina M Ederer', 'Ka...   \n",
       "4  ['Marco Claudio Traini', 'Carla Caponi', 'Gius...   \n",
       "\n",
       "                                            abstract  \\\n",
       "0  Zoonotic coronaviruses (CoVs) are significant ...   \n",
       "1  Adenoviruses are double-strained DNA viruses f...   \n",
       "2  Positive-sense RNA viruses hijack intracellula...   \n",
       "3  Natural selection acting on synonymous mutatio...   \n",
       "4                                                NaN   \n",
       "\n",
       "                                           full_text  text_length  \n",
       "0  [4, hepatoma, cells, largely, specific, cov., ...         5770  \n",
       "1  [across, species,, found, number, adenoviruses...          832  \n",
       "2  [8, peptide, 14, amino, acids, carboxyterminus...         1102  \n",
       "3  [unequal, use, synonymous, codons, known, codo...         4807  \n",
       "4  [late, december, 2019, health, facilities, rep...         1214  "
      ]
     },
     "execution_count": 41,
     "metadata": {},
     "output_type": "execute_result"
    }
   ],
   "source": [
    "# Remove stopwords\n",
    "nltk.download('stopwords')\n",
    "stopwords = nltk.corpus.stopwords.words('english')\n",
    "df['full_text'] = df['full_text'].apply(lambda x: [item for item in x if item not in stopwords])\n",
    "df.head()"
   ]
  }
 ],
 "metadata": {
  "kernelspec": {
   "display_name": "Python 3",
   "language": "python",
   "name": "python3"
  },
  "language_info": {
   "codemirror_mode": {
    "name": "ipython",
    "version": 3
   },
   "file_extension": ".py",
   "mimetype": "text/x-python",
   "name": "python",
   "nbconvert_exporter": "python",
   "pygments_lexer": "ipython3",
   "version": "3.6.8"
  }
 },
 "nbformat": 4,
 "nbformat_minor": 2
}
