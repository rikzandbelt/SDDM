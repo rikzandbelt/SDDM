{
 "cells": [
  {
   "cell_type": "markdown",
   "metadata": {},
   "source": [
    "## Notebook for extracting the data from their json files and saving them to a csv file"
   ]
  },
  {
   "cell_type": "code",
   "execution_count": 1,
   "metadata": {},
   "outputs": [],
   "source": [
    "# Import packages\n",
    "import pandas as pd\n",
    "import json\n",
    "import os"
   ]
  },
  {
   "cell_type": "markdown",
   "metadata": {},
   "source": [
    "### Add Task 2 queries to paper list and store them to a separate csv file"
   ]
  },
  {
   "cell_type": "code",
   "execution_count": 2,
   "metadata": {},
   "outputs": [
    {
     "name": "stdout",
     "output_type": "stream",
     "text": [
      "Questions extracted and sent to csv file.\n"
     ]
    }
   ],
   "source": [
    "# question_path = '/data/s1847503/SDDM/newdata/Kaggle/target_tables/2_relevant_factors/'\n",
    "question_path = '/home/rikz/Documents/Master/Semester2/SDDM/data/questions/'\n",
    "questions = []\n",
    "docs = []\n",
    "question_id = 0\n",
    "\n",
    "for file in os.listdir(question_path):\n",
    "    # Add question to question list\n",
    "    questions.append( [question_id, file.split(\".csv\")[0].replace('_', ' ')])\n",
    "    # Add question to paper list for the correct TF-IDF vocabulary\n",
    "    docs.append(['question{}'.format(question_id), '-', '-', file.split(\".csv\")[0].replace('_', ' ')])\n",
    "    question_id += 1\n",
    "\n",
    "df_questions = pd.DataFrame(questions, columns=['question_id', 'full_text'])\n",
    "# df_questions.to_csv('/data/s1847503/SDDM/newdata/questions.csv', index=False)\n",
    "df_questions.to_csv('/home/rikz/Documents/Master/Semester2/SDDM/data/questions.csv', index=False)\n",
    "print(\"Questions extracted and sent to csv file.\")"
   ]
  },
  {
   "cell_type": "markdown",
   "metadata": {},
   "source": [
    "### Extracts the papers from json files"
   ]
  },
  {
   "cell_type": "code",
   "execution_count": 3,
   "metadata": {
    "scrolled": true
   },
   "outputs": [],
   "source": [
    "# List all directories where data is stored\n",
    "# dirs = ['/data/s1847503/SDDM/newdata/document_parses/pdf_json/',\n",
    "#         '/data/s1847503/SDDM/newdata/document_parses/pmc_json/'\n",
    "#        ]\n",
    "\n",
    "dirs = ['/home/rikz/Documents/Master/Semester2/SDDM/data/document_parses/pdf_json/']\n",
    "\n",
    "# For each paper, store the id, title, authors, abstract and full text in a list with documents\n",
    "count = 0\n",
    "for d in dirs:\n",
    "    for file in os.listdir(d):\n",
    "        # We get a small subset by setting a threshold for count\n",
    "        if count < 500:\n",
    "            # Open a file\n",
    "            filename = d+file\n",
    "            j = json.load(open(filename, 'rb'))\n",
    "\n",
    "            # Get the paper id and title\n",
    "            paper_id = j['paper_id']\n",
    "            title = j['metadata']['title']\n",
    "\n",
    "            # Get a list with the authors\n",
    "            authors = j['metadata']['authors']\n",
    "            list_authors = []\n",
    "            for author in authors:\n",
    "                # Not every author has a middle name, handle those cases correctly\n",
    "                if(len(author['middle']) == 0):\n",
    "                    middle = \" \"\n",
    "                else:\n",
    "                    middle = \" \" + author['middle'][0] + \" \"\n",
    "                _author = author['first'] + middle + author['last']\n",
    "                list_authors.append(_author.strip())\n",
    "\n",
    "            # Get the full text\n",
    "            full_text = \"\"\n",
    "            for text in j['body_text']:\n",
    "                full_text += text['text'] + ' '\n",
    "\n",
    "            # Append everything to the document list\n",
    "            docs.append([paper_id,title,list_authors,full_text])\n",
    "        \n",
    "        count += 1"
   ]
  },
  {
   "cell_type": "markdown",
   "metadata": {},
   "source": [
    "### Save the papers to a csv file"
   ]
  },
  {
   "cell_type": "code",
   "execution_count": 4,
   "metadata": {},
   "outputs": [
    {
     "name": "stdout",
     "output_type": "stream",
     "text": [
      "Data extracted and sent to csv file.\n"
     ]
    }
   ],
   "source": [
    "# Convert the paper list to a Dataframe and send it to a csv file\n",
    "df = pd.DataFrame(docs, columns=['paper_id','title','list_authors','full_text'])\n",
    "# df.to_csv('/data/s1847503/SDDM/newdata/data.csv', index=True)\n",
    "df.to_csv('/home/rikz/Documents/Master/Semester2/SDDM/data/data.csv', index=True)\n",
    "print(\"Data extracted and sent to csv file.\")"
   ]
  }
 ],
 "metadata": {
  "kernelspec": {
   "display_name": "Python 3",
   "language": "python",
   "name": "python3"
  },
  "language_info": {
   "codemirror_mode": {
    "name": "ipython",
    "version": 3
   },
   "file_extension": ".py",
   "mimetype": "text/x-python",
   "name": "python",
   "nbconvert_exporter": "python",
   "pygments_lexer": "ipython3",
   "version": "3.7.5"
  }
 },
 "nbformat": 4,
 "nbformat_minor": 2
}
