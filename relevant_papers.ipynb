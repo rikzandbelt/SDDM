{
 "cells": [
  {
   "cell_type": "code",
   "execution_count": 4,
   "metadata": {},
   "outputs": [],
   "source": [
    "# Import packages\n",
    "import pandas as pd\n",
    "import json\n",
    "import os"
   ]
  },
  {
   "cell_type": "code",
   "execution_count": 5,
   "metadata": {},
   "outputs": [],
   "source": [
    "# Add questions to list papers for correct TF-IDF vocabulary\n",
    "question_path = '/data/s1847503/SDDM/newdata/Kaggle/target_tables/2_relevant_factors/'\n",
    "docs = []\n",
    "question_id = 0\n",
    "\n",
    "for file in os.listdir(question_path):\n",
    "    docs.append(['question{}'.format(question_id), '-', '-', file.split(\".csv\")[0].replace('_', ' '), '-'])\n",
    "    question_id += 1"
   ]
  },
  {
   "cell_type": "markdown",
   "metadata": {},
   "source": [
    "### Extract only the relevant papers and show them"
   ]
  },
  {
   "cell_type": "code",
   "execution_count": null,
   "metadata": {},
   "outputs": [],
   "source": [
    "# List all directories where data is stored\n",
    "dirs = ['/data/s1847503/SDDM/newdata/document_parses/pdf_json/',\n",
    "        '/data/s1847503/SDDM/newdata/document_parses/pmc_json/'\n",
    "       ]\n",
    "\n",
    "# List of all relevant paper ids\n",
    "relevant_paper_ids = [  \n",
    "                        '94586be17a5f9eca803eea569f0ea27bef0e39fb',\n",
    "                        'df97f804b68dcf16ffcc3c2c0894528d6d0c7ff2',\n",
    "                        '7d45ea056c28c2f2a865004ed8aae49edce11988',\n",
    "                        '0475f4122241f400808978e388e53c8fdee78857',\n",
    "                        '76d9d36fe4198fdf083bd6fb3d84617d02217812'\n",
    "                     ]\n",
    "\n",
    "# For each paper, store the id, title, authors, abstract and full text in a list with documents\n",
    "found = 0\n",
    "for d in dirs:\n",
    "    for file in os.listdir(d):\n",
    "        # Open a file\n",
    "        filename = d+file\n",
    "        j = json.load(open(filename, 'rb'))\n",
    "        \n",
    "        # Get the paper id and title\n",
    "        paper_id = j['paper_id']\n",
    "        if paper_id in relevant_paper_ids:\n",
    "            found += 1\n",
    "            print(\"Found: {}\".format(paper_id))\n",
    "            \n",
    "            title = j['metadata']['title']\n",
    "\n",
    "            # Get a list with the authors\n",
    "            authors = j['metadata']['authors']\n",
    "            list_authors = []\n",
    "            for author in authors:\n",
    "                # Not every author has a middle name, handle those cases correctly\n",
    "                if(len(author['middle']) == 0):\n",
    "                    middle = \" \"\n",
    "                else:\n",
    "                    middle = \" \" + author['middle'][0] + \" \"\n",
    "                _author = author['first'] + middle + author['last']\n",
    "                list_authors.append(_author.strip())\n",
    "\n",
    "            # Get the full text\n",
    "            full_text = \"\"\n",
    "            sections = []\n",
    "            for text in j['body_text']:\n",
    "                full_text += text['text'] + ' '\n",
    "                sections.append(text['text'])\n",
    "\n",
    "            # Append everything to the document list\n",
    "            docs.append([paper_id,title,list_authors,full_text,sections])"
   ]
  },
  {
   "cell_type": "code",
   "execution_count": null,
   "metadata": {},
   "outputs": [],
   "source": [
    "# Convert the list to a Dataframe and send it to a csv file\n",
    "df = pd.DataFrame(docs, columns=['paper_id','title','list_authors','full_text', 'sections'])\n",
    "df.to_csv('/data/s1847503/SDDM/newdata/relevant.csv', index=True)\n",
    "print(\"Data extracted and sent to csv file.\")"
   ]
  }
 ],
 "metadata": {
  "kernelspec": {
   "display_name": "Python 3",
   "language": "python",
   "name": "python3"
  },
  "language_info": {
   "codemirror_mode": {
    "name": "ipython",
    "version": 3
   },
   "file_extension": ".py",
   "mimetype": "text/x-python",
   "name": "python",
   "nbconvert_exporter": "python",
   "pygments_lexer": "ipython3",
   "version": "3.7.7"
  }
 },
 "nbformat": 4,
 "nbformat_minor": 4
}
